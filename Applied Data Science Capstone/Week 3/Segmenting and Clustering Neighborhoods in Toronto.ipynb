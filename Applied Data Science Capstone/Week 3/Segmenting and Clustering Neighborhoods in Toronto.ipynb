{
 "cells": [
  {
   "cell_type": "markdown",
   "metadata": {},
   "source": [
    "## Segmenting and Clustering Neighborhoods in Toronto"
   ]
  },
  {
   "cell_type": "markdown",
   "metadata": {},
   "source": [
    "Firstly we will get the data and start exploring it. Build a dataframe of the postal code of each neighborhood along with the borough name and also neighborhood name in Toronto."
   ]
  },
  {
   "cell_type": "markdown",
   "metadata": {},
   "source": [
    "### Import Libraries"
   ]
  },
  {
   "cell_type": "code",
   "execution_count": 37,
   "metadata": {},
   "outputs": [
    {
     "name": "stdout",
     "output_type": "stream",
     "text": [
      "Libraries imported.\n"
     ]
    }
   ],
   "source": [
    "import numpy as np # library to handle data in a vectorized manner\n",
    "\n",
    "import pandas as pd # library for data analsysis\n",
    "pd.set_option(\"display.max_columns\", None)\n",
    "pd.set_option(\"display.max_rows\", None)\n",
    "\n",
    "import json # library to handle JSON files\n",
    "\n",
    "from geopy.geocoders import Nominatim # convert an address into latitude and longitude values\n",
    "\n",
    "import requests # library to handle requests\n",
    "from bs4 import BeautifulSoup # library to parse HTML and XML documents\n",
    "\n",
    "from pandas.io.json import json_normalize # tranform JSON file into a pandas dataframe\n",
    "\n",
    "# Matplotlib and associated plotting modules\n",
    "import matplotlib.cm as cm\n",
    "import matplotlib.colors as colors\n",
    "\n",
    "# import k-means from clustering stage\n",
    "from sklearn.cluster import KMeans\n",
    "\n",
    "import folium # map rendering library\n",
    "\n",
    "print(\"Libraries imported.\")"
   ]
  },
  {
   "cell_type": "markdown",
   "metadata": {},
   "source": [
    "### We will scrap the data from Wikiedia into a Dataframe"
   ]
  },
  {
   "cell_type": "code",
   "execution_count": 38,
   "metadata": {},
   "outputs": [],
   "source": [
    "# GET request\n",
    "data = requests.get('https://en.wikipedia.org/wiki/List_of_postal_codes_of_Canada:_M').text"
   ]
  },
  {
   "cell_type": "markdown",
   "metadata": {},
   "source": [
    "### parse data from the html into a soup object"
   ]
  },
  {
   "cell_type": "code",
   "execution_count": 39,
   "metadata": {},
   "outputs": [],
   "source": [
    "soup = BeautifulSoup(data, 'html.parser')"
   ]
  },
  {
   "cell_type": "markdown",
   "metadata": {},
   "source": [
    "### create three lists to store table data\n"
   ]
  },
  {
   "cell_type": "code",
   "execution_count": 40,
   "metadata": {},
   "outputs": [],
   "source": [
    "postalCodeList = []\n",
    "boroughList = []\n",
    "neighborhoodList = []"
   ]
  },
  {
   "cell_type": "markdown",
   "metadata": {},
   "source": [
    "#### for how to use BeautifulSoup ;\n",
    "\n",
    "##### find the table\n",
    "soup.find('table').find_all('tr')\n",
    "\n",
    "##### find all the rows of the table\n",
    "soup.find('table').find_all('tr')\n",
    "\n",
    "##### for each row of the table, find all the table data\n",
    "for row in soup.find('table').find_all('tr'):\n",
    "    cells = row.find_all('td')\n",
    "\n"
   ]
  },
  {
   "cell_type": "markdown",
   "metadata": {},
   "source": [
    "### Append the data into the respective lists"
   ]
  },
  {
   "cell_type": "code",
   "execution_count": 41,
   "metadata": {},
   "outputs": [],
   "source": [
    "for row in soup.find('table').find_all('tr'):\n",
    "    cells = row.find_all('td')\n",
    "    if(len(cells) > 0):\n",
    "        \n",
    "        postalCodeList.append(cells[0].text.rstrip(\"\\n\"))\n",
    "        boroughList.append(cells[1].text.rstrip(\"\\n\"))\n",
    "        neighborhoodList.append(cells[2].text.rstrip(\"\\n\")) # avoid new lines in neighborhood cell"
   ]
  },
  {
   "cell_type": "markdown",
   "metadata": {},
   "source": [
    "### Creating the pandas dataframe"
   ]
  },
  {
   "cell_type": "code",
   "execution_count": 42,
   "metadata": {},
   "outputs": [
    {
     "data": {
      "text/html": [
       "<div>\n",
       "<style scoped>\n",
       "    .dataframe tbody tr th:only-of-type {\n",
       "        vertical-align: middle;\n",
       "    }\n",
       "\n",
       "    .dataframe tbody tr th {\n",
       "        vertical-align: top;\n",
       "    }\n",
       "\n",
       "    .dataframe thead th {\n",
       "        text-align: right;\n",
       "    }\n",
       "</style>\n",
       "<table border=\"1\" class=\"dataframe\">\n",
       "  <thead>\n",
       "    <tr style=\"text-align: right;\">\n",
       "      <th></th>\n",
       "      <th>PostalCode</th>\n",
       "      <th>Borough</th>\n",
       "      <th>Neighborhood</th>\n",
       "    </tr>\n",
       "  </thead>\n",
       "  <tbody>\n",
       "    <tr>\n",
       "      <th>0</th>\n",
       "      <td>M1A</td>\n",
       "      <td>Not assigned</td>\n",
       "      <td>Not assigned</td>\n",
       "    </tr>\n",
       "    <tr>\n",
       "      <th>1</th>\n",
       "      <td>M2A</td>\n",
       "      <td>Not assigned</td>\n",
       "      <td>Not assigned</td>\n",
       "    </tr>\n",
       "    <tr>\n",
       "      <th>2</th>\n",
       "      <td>M3A</td>\n",
       "      <td>North York</td>\n",
       "      <td>Parkwoods</td>\n",
       "    </tr>\n",
       "    <tr>\n",
       "      <th>3</th>\n",
       "      <td>M4A</td>\n",
       "      <td>North York</td>\n",
       "      <td>Victoria Village</td>\n",
       "    </tr>\n",
       "    <tr>\n",
       "      <th>4</th>\n",
       "      <td>M5A</td>\n",
       "      <td>Downtown Toronto</td>\n",
       "      <td>Regent Park, Harbourfront</td>\n",
       "    </tr>\n",
       "  </tbody>\n",
       "</table>\n",
       "</div>"
      ],
      "text/plain": [
       "  PostalCode           Borough               Neighborhood\n",
       "0        M1A      Not assigned               Not assigned\n",
       "1        M2A      Not assigned               Not assigned\n",
       "2        M3A        North York                  Parkwoods\n",
       "3        M4A        North York           Victoria Village\n",
       "4        M5A  Downtown Toronto  Regent Park, Harbourfront"
      ]
     },
     "execution_count": 42,
     "metadata": {},
     "output_type": "execute_result"
    }
   ],
   "source": [
    "toronto_df = pd.DataFrame({\"PostalCode\": postalCodeList,\n",
    "                           \"Borough\": boroughList,\n",
    "                           \"Neighborhood\": neighborhoodList})\n",
    "\n",
    "toronto_df.head()"
   ]
  },
  {
   "cell_type": "markdown",
   "metadata": {},
   "source": [
    "### Drop borough cell which is 'Not assigned'"
   ]
  },
  {
   "cell_type": "code",
   "execution_count": 45,
   "metadata": {},
   "outputs": [
    {
     "data": {
      "text/html": [
       "<div>\n",
       "<style scoped>\n",
       "    .dataframe tbody tr th:only-of-type {\n",
       "        vertical-align: middle;\n",
       "    }\n",
       "\n",
       "    .dataframe tbody tr th {\n",
       "        vertical-align: top;\n",
       "    }\n",
       "\n",
       "    .dataframe thead th {\n",
       "        text-align: right;\n",
       "    }\n",
       "</style>\n",
       "<table border=\"1\" class=\"dataframe\">\n",
       "  <thead>\n",
       "    <tr style=\"text-align: right;\">\n",
       "      <th></th>\n",
       "      <th>PostalCode</th>\n",
       "      <th>Borough</th>\n",
       "      <th>Neighborhood</th>\n",
       "    </tr>\n",
       "  </thead>\n",
       "  <tbody>\n",
       "    <tr>\n",
       "      <th>0</th>\n",
       "      <td>M3A</td>\n",
       "      <td>North York</td>\n",
       "      <td>Parkwoods</td>\n",
       "    </tr>\n",
       "    <tr>\n",
       "      <th>1</th>\n",
       "      <td>M4A</td>\n",
       "      <td>North York</td>\n",
       "      <td>Victoria Village</td>\n",
       "    </tr>\n",
       "    <tr>\n",
       "      <th>2</th>\n",
       "      <td>M5A</td>\n",
       "      <td>Downtown Toronto</td>\n",
       "      <td>Regent Park, Harbourfront</td>\n",
       "    </tr>\n",
       "    <tr>\n",
       "      <th>3</th>\n",
       "      <td>M6A</td>\n",
       "      <td>North York</td>\n",
       "      <td>Lawrence Manor, Lawrence Heights</td>\n",
       "    </tr>\n",
       "    <tr>\n",
       "      <th>4</th>\n",
       "      <td>M7A</td>\n",
       "      <td>Downtown Toronto</td>\n",
       "      <td>Queen's Park, Ontario Provincial Government</td>\n",
       "    </tr>\n",
       "  </tbody>\n",
       "</table>\n",
       "</div>"
      ],
      "text/plain": [
       "  PostalCode           Borough                                 Neighborhood\n",
       "0        M3A        North York                                    Parkwoods\n",
       "1        M4A        North York                             Victoria Village\n",
       "2        M5A  Downtown Toronto                    Regent Park, Harbourfront\n",
       "3        M6A        North York             Lawrence Manor, Lawrence Heights\n",
       "4        M7A  Downtown Toronto  Queen's Park, Ontario Provincial Government"
      ]
     },
     "execution_count": 45,
     "metadata": {},
     "output_type": "execute_result"
    }
   ],
   "source": [
    "toronto_df_dropna = toronto_df[toronto_df.Borough != \"Not assigned\"].reset_index(drop=True)\n",
    "toronto_df_dropna.head()"
   ]
  },
  {
   "cell_type": "markdown",
   "metadata": {},
   "source": [
    "### Group neighborhoods in the same borough"
   ]
  },
  {
   "cell_type": "code",
   "execution_count": 46,
   "metadata": {},
   "outputs": [
    {
     "data": {
      "text/html": [
       "<div>\n",
       "<style scoped>\n",
       "    .dataframe tbody tr th:only-of-type {\n",
       "        vertical-align: middle;\n",
       "    }\n",
       "\n",
       "    .dataframe tbody tr th {\n",
       "        vertical-align: top;\n",
       "    }\n",
       "\n",
       "    .dataframe thead th {\n",
       "        text-align: right;\n",
       "    }\n",
       "</style>\n",
       "<table border=\"1\" class=\"dataframe\">\n",
       "  <thead>\n",
       "    <tr style=\"text-align: right;\">\n",
       "      <th></th>\n",
       "      <th>PostalCode</th>\n",
       "      <th>Borough</th>\n",
       "      <th>Neighborhood</th>\n",
       "    </tr>\n",
       "  </thead>\n",
       "  <tbody>\n",
       "    <tr>\n",
       "      <th>0</th>\n",
       "      <td>M1B</td>\n",
       "      <td>Scarborough</td>\n",
       "      <td>Malvern, Rouge</td>\n",
       "    </tr>\n",
       "    <tr>\n",
       "      <th>1</th>\n",
       "      <td>M1C</td>\n",
       "      <td>Scarborough</td>\n",
       "      <td>Rouge Hill, Port Union, Highland Creek</td>\n",
       "    </tr>\n",
       "    <tr>\n",
       "      <th>2</th>\n",
       "      <td>M1E</td>\n",
       "      <td>Scarborough</td>\n",
       "      <td>Guildwood, Morningside, West Hill</td>\n",
       "    </tr>\n",
       "    <tr>\n",
       "      <th>3</th>\n",
       "      <td>M1G</td>\n",
       "      <td>Scarborough</td>\n",
       "      <td>Woburn</td>\n",
       "    </tr>\n",
       "    <tr>\n",
       "      <th>4</th>\n",
       "      <td>M1H</td>\n",
       "      <td>Scarborough</td>\n",
       "      <td>Cedarbrae</td>\n",
       "    </tr>\n",
       "  </tbody>\n",
       "</table>\n",
       "</div>"
      ],
      "text/plain": [
       "  PostalCode      Borough                            Neighborhood\n",
       "0        M1B  Scarborough                          Malvern, Rouge\n",
       "1        M1C  Scarborough  Rouge Hill, Port Union, Highland Creek\n",
       "2        M1E  Scarborough       Guildwood, Morningside, West Hill\n",
       "3        M1G  Scarborough                                  Woburn\n",
       "4        M1H  Scarborough                               Cedarbrae"
      ]
     },
     "execution_count": 46,
     "metadata": {},
     "output_type": "execute_result"
    }
   ],
   "source": [
    "toronto_df_grouped = toronto_df_dropna.groupby([\"PostalCode\", \"Borough\"], as_index=False).agg(lambda x: \", \".join(x))\n",
    "toronto_df_grouped.head()"
   ]
  },
  {
   "cell_type": "markdown",
   "metadata": {},
   "source": [
    "### Also for neighborhood make the value the same as borough"
   ]
  },
  {
   "cell_type": "code",
   "execution_count": 47,
   "metadata": {},
   "outputs": [
    {
     "data": {
      "text/html": [
       "<div>\n",
       "<style scoped>\n",
       "    .dataframe tbody tr th:only-of-type {\n",
       "        vertical-align: middle;\n",
       "    }\n",
       "\n",
       "    .dataframe tbody tr th {\n",
       "        vertical-align: top;\n",
       "    }\n",
       "\n",
       "    .dataframe thead th {\n",
       "        text-align: right;\n",
       "    }\n",
       "</style>\n",
       "<table border=\"1\" class=\"dataframe\">\n",
       "  <thead>\n",
       "    <tr style=\"text-align: right;\">\n",
       "      <th></th>\n",
       "      <th>PostalCode</th>\n",
       "      <th>Borough</th>\n",
       "      <th>Neighborhood</th>\n",
       "    </tr>\n",
       "  </thead>\n",
       "  <tbody>\n",
       "    <tr>\n",
       "      <th>0</th>\n",
       "      <td>M1B</td>\n",
       "      <td>Scarborough</td>\n",
       "      <td>Malvern, Rouge</td>\n",
       "    </tr>\n",
       "    <tr>\n",
       "      <th>1</th>\n",
       "      <td>M1C</td>\n",
       "      <td>Scarborough</td>\n",
       "      <td>Rouge Hill, Port Union, Highland Creek</td>\n",
       "    </tr>\n",
       "    <tr>\n",
       "      <th>2</th>\n",
       "      <td>M1E</td>\n",
       "      <td>Scarborough</td>\n",
       "      <td>Guildwood, Morningside, West Hill</td>\n",
       "    </tr>\n",
       "    <tr>\n",
       "      <th>3</th>\n",
       "      <td>M1G</td>\n",
       "      <td>Scarborough</td>\n",
       "      <td>Woburn</td>\n",
       "    </tr>\n",
       "    <tr>\n",
       "      <th>4</th>\n",
       "      <td>M1H</td>\n",
       "      <td>Scarborough</td>\n",
       "      <td>Cedarbrae</td>\n",
       "    </tr>\n",
       "  </tbody>\n",
       "</table>\n",
       "</div>"
      ],
      "text/plain": [
       "  PostalCode      Borough                            Neighborhood\n",
       "0        M1B  Scarborough                          Malvern, Rouge\n",
       "1        M1C  Scarborough  Rouge Hill, Port Union, Highland Creek\n",
       "2        M1E  Scarborough       Guildwood, Morningside, West Hill\n",
       "3        M1G  Scarborough                                  Woburn\n",
       "4        M1H  Scarborough                               Cedarbrae"
      ]
     },
     "execution_count": 47,
     "metadata": {},
     "output_type": "execute_result"
    }
   ],
   "source": [
    "for index, row in toronto_df_grouped.iterrows():\n",
    "    if row[\"Neighborhood\"] == \"Not assigned\":\n",
    "        row[\"Neighborhood\"] = row[\"Borough\"]\n",
    "        \n",
    "toronto_df_grouped.head()"
   ]
  },
  {
   "cell_type": "markdown",
   "metadata": {},
   "source": [
    "### Create a new test dataframe"
   ]
  },
  {
   "cell_type": "code",
   "execution_count": 48,
   "metadata": {},
   "outputs": [
    {
     "data": {
      "text/html": [
       "<div>\n",
       "<style scoped>\n",
       "    .dataframe tbody tr th:only-of-type {\n",
       "        vertical-align: middle;\n",
       "    }\n",
       "\n",
       "    .dataframe tbody tr th {\n",
       "        vertical-align: top;\n",
       "    }\n",
       "\n",
       "    .dataframe thead th {\n",
       "        text-align: right;\n",
       "    }\n",
       "</style>\n",
       "<table border=\"1\" class=\"dataframe\">\n",
       "  <thead>\n",
       "    <tr style=\"text-align: right;\">\n",
       "      <th></th>\n",
       "      <th>PostalCode</th>\n",
       "      <th>Borough</th>\n",
       "      <th>Neighborhood</th>\n",
       "    </tr>\n",
       "  </thead>\n",
       "  <tbody>\n",
       "    <tr>\n",
       "      <th>0</th>\n",
       "      <td>M5G</td>\n",
       "      <td>Downtown Toronto</td>\n",
       "      <td>Central Bay Street</td>\n",
       "    </tr>\n",
       "    <tr>\n",
       "      <th>1</th>\n",
       "      <td>M2H</td>\n",
       "      <td>North York</td>\n",
       "      <td>Hillcrest Village</td>\n",
       "    </tr>\n",
       "    <tr>\n",
       "      <th>2</th>\n",
       "      <td>M4B</td>\n",
       "      <td>East York</td>\n",
       "      <td>Parkview Hill, Woodbine Gardens</td>\n",
       "    </tr>\n",
       "    <tr>\n",
       "      <th>3</th>\n",
       "      <td>M1J</td>\n",
       "      <td>Scarborough</td>\n",
       "      <td>Scarborough Village</td>\n",
       "    </tr>\n",
       "    <tr>\n",
       "      <th>4</th>\n",
       "      <td>M4G</td>\n",
       "      <td>East York</td>\n",
       "      <td>Leaside</td>\n",
       "    </tr>\n",
       "    <tr>\n",
       "      <th>5</th>\n",
       "      <td>M4M</td>\n",
       "      <td>East Toronto</td>\n",
       "      <td>Studio District</td>\n",
       "    </tr>\n",
       "    <tr>\n",
       "      <th>6</th>\n",
       "      <td>M1R</td>\n",
       "      <td>Scarborough</td>\n",
       "      <td>Wexford, Maryvale</td>\n",
       "    </tr>\n",
       "    <tr>\n",
       "      <th>7</th>\n",
       "      <td>M9V</td>\n",
       "      <td>Etobicoke</td>\n",
       "      <td>South Steeles, Silverstone, Humbergate, Jamest...</td>\n",
       "    </tr>\n",
       "    <tr>\n",
       "      <th>8</th>\n",
       "      <td>M9L</td>\n",
       "      <td>North York</td>\n",
       "      <td>Humber Summit</td>\n",
       "    </tr>\n",
       "    <tr>\n",
       "      <th>9</th>\n",
       "      <td>M5V</td>\n",
       "      <td>Downtown Toronto</td>\n",
       "      <td>CN Tower, King and Spadina, Railway Lands, Har...</td>\n",
       "    </tr>\n",
       "    <tr>\n",
       "      <th>10</th>\n",
       "      <td>M1B</td>\n",
       "      <td>Scarborough</td>\n",
       "      <td>Malvern, Rouge</td>\n",
       "    </tr>\n",
       "    <tr>\n",
       "      <th>11</th>\n",
       "      <td>M5A</td>\n",
       "      <td>Downtown Toronto</td>\n",
       "      <td>Regent Park, Harbourfront</td>\n",
       "    </tr>\n",
       "  </tbody>\n",
       "</table>\n",
       "</div>"
      ],
      "text/plain": [
       "   PostalCode           Borough  \\\n",
       "0         M5G  Downtown Toronto   \n",
       "1         M2H        North York   \n",
       "2         M4B         East York   \n",
       "3         M1J       Scarborough   \n",
       "4         M4G         East York   \n",
       "5         M4M      East Toronto   \n",
       "6         M1R       Scarborough   \n",
       "7         M9V         Etobicoke   \n",
       "8         M9L        North York   \n",
       "9         M5V  Downtown Toronto   \n",
       "10        M1B       Scarborough   \n",
       "11        M5A  Downtown Toronto   \n",
       "\n",
       "                                         Neighborhood  \n",
       "0                                  Central Bay Street  \n",
       "1                                   Hillcrest Village  \n",
       "2                     Parkview Hill, Woodbine Gardens  \n",
       "3                                 Scarborough Village  \n",
       "4                                             Leaside  \n",
       "5                                     Studio District  \n",
       "6                                   Wexford, Maryvale  \n",
       "7   South Steeles, Silverstone, Humbergate, Jamest...  \n",
       "8                                       Humber Summit  \n",
       "9   CN Tower, King and Spadina, Railway Lands, Har...  \n",
       "10                                     Malvern, Rouge  \n",
       "11                          Regent Park, Harbourfront  "
      ]
     },
     "execution_count": 48,
     "metadata": {},
     "output_type": "execute_result"
    }
   ],
   "source": [
    "column_names = [\"PostalCode\", \"Borough\", \"Neighborhood\"]\n",
    "test_df = pd.DataFrame(columns=column_names)\n",
    "\n",
    "test_list = [\"M5G\", \"M2H\", \"M4B\", \"M1J\", \"M4G\", \"M4M\", \"M1R\", \"M9V\", \"M9L\", \"M5V\", \"M1B\", \"M5A\"]\n",
    "\n",
    "for postcode in test_list:\n",
    "    test_df = test_df.append(toronto_df_grouped[toronto_df_grouped[\"PostalCode\"]==postcode], ignore_index=True)\n",
    "    \n",
    "test_df"
   ]
  },
  {
   "cell_type": "markdown",
   "metadata": {},
   "source": [
    "### Print the number of rows of the cleaned dataframe"
   ]
  },
  {
   "cell_type": "code",
   "execution_count": 50,
   "metadata": {},
   "outputs": [
    {
     "data": {
      "text/plain": [
       "(103, 3)"
      ]
     },
     "execution_count": 50,
     "metadata": {},
     "output_type": "execute_result"
    }
   ],
   "source": [
    "toronto_df_grouped.shape"
   ]
  },
  {
   "cell_type": "markdown",
   "metadata": {},
   "source": [
    "### Load the coordinates from the csv ile"
   ]
  },
  {
   "cell_type": "code",
   "execution_count": 51,
   "metadata": {},
   "outputs": [
    {
     "data": {
      "text/html": [
       "<div>\n",
       "<style scoped>\n",
       "    .dataframe tbody tr th:only-of-type {\n",
       "        vertical-align: middle;\n",
       "    }\n",
       "\n",
       "    .dataframe tbody tr th {\n",
       "        vertical-align: top;\n",
       "    }\n",
       "\n",
       "    .dataframe thead th {\n",
       "        text-align: right;\n",
       "    }\n",
       "</style>\n",
       "<table border=\"1\" class=\"dataframe\">\n",
       "  <thead>\n",
       "    <tr style=\"text-align: right;\">\n",
       "      <th></th>\n",
       "      <th>Postal Code</th>\n",
       "      <th>Latitude</th>\n",
       "      <th>Longitude</th>\n",
       "    </tr>\n",
       "  </thead>\n",
       "  <tbody>\n",
       "    <tr>\n",
       "      <th>0</th>\n",
       "      <td>M1B</td>\n",
       "      <td>43.806686</td>\n",
       "      <td>-79.194353</td>\n",
       "    </tr>\n",
       "    <tr>\n",
       "      <th>1</th>\n",
       "      <td>M1C</td>\n",
       "      <td>43.784535</td>\n",
       "      <td>-79.160497</td>\n",
       "    </tr>\n",
       "    <tr>\n",
       "      <th>2</th>\n",
       "      <td>M1E</td>\n",
       "      <td>43.763573</td>\n",
       "      <td>-79.188711</td>\n",
       "    </tr>\n",
       "    <tr>\n",
       "      <th>3</th>\n",
       "      <td>M1G</td>\n",
       "      <td>43.770992</td>\n",
       "      <td>-79.216917</td>\n",
       "    </tr>\n",
       "    <tr>\n",
       "      <th>4</th>\n",
       "      <td>M1H</td>\n",
       "      <td>43.773136</td>\n",
       "      <td>-79.239476</td>\n",
       "    </tr>\n",
       "  </tbody>\n",
       "</table>\n",
       "</div>"
      ],
      "text/plain": [
       "  Postal Code   Latitude  Longitude\n",
       "0         M1B  43.806686 -79.194353\n",
       "1         M1C  43.784535 -79.160497\n",
       "2         M1E  43.763573 -79.188711\n",
       "3         M1G  43.770992 -79.216917\n",
       "4         M1H  43.773136 -79.239476"
      ]
     },
     "execution_count": 51,
     "metadata": {},
     "output_type": "execute_result"
    }
   ],
   "source": [
    "coordinates = pd.read_csv(\"Geospatial_Coordinates.csv\")\n",
    "coordinates.head()"
   ]
  },
  {
   "cell_type": "markdown",
   "metadata": {},
   "source": [
    "### Rename the column of Postal Code"
   ]
  },
  {
   "cell_type": "code",
   "execution_count": 52,
   "metadata": {},
   "outputs": [
    {
     "data": {
      "text/html": [
       "<div>\n",
       "<style scoped>\n",
       "    .dataframe tbody tr th:only-of-type {\n",
       "        vertical-align: middle;\n",
       "    }\n",
       "\n",
       "    .dataframe tbody tr th {\n",
       "        vertical-align: top;\n",
       "    }\n",
       "\n",
       "    .dataframe thead th {\n",
       "        text-align: right;\n",
       "    }\n",
       "</style>\n",
       "<table border=\"1\" class=\"dataframe\">\n",
       "  <thead>\n",
       "    <tr style=\"text-align: right;\">\n",
       "      <th></th>\n",
       "      <th>PostalCode</th>\n",
       "      <th>Latitude</th>\n",
       "      <th>Longitude</th>\n",
       "    </tr>\n",
       "  </thead>\n",
       "  <tbody>\n",
       "    <tr>\n",
       "      <th>0</th>\n",
       "      <td>M1B</td>\n",
       "      <td>43.806686</td>\n",
       "      <td>-79.194353</td>\n",
       "    </tr>\n",
       "    <tr>\n",
       "      <th>1</th>\n",
       "      <td>M1C</td>\n",
       "      <td>43.784535</td>\n",
       "      <td>-79.160497</td>\n",
       "    </tr>\n",
       "    <tr>\n",
       "      <th>2</th>\n",
       "      <td>M1E</td>\n",
       "      <td>43.763573</td>\n",
       "      <td>-79.188711</td>\n",
       "    </tr>\n",
       "    <tr>\n",
       "      <th>3</th>\n",
       "      <td>M1G</td>\n",
       "      <td>43.770992</td>\n",
       "      <td>-79.216917</td>\n",
       "    </tr>\n",
       "    <tr>\n",
       "      <th>4</th>\n",
       "      <td>M1H</td>\n",
       "      <td>43.773136</td>\n",
       "      <td>-79.239476</td>\n",
       "    </tr>\n",
       "  </tbody>\n",
       "</table>\n",
       "</div>"
      ],
      "text/plain": [
       "  PostalCode   Latitude  Longitude\n",
       "0        M1B  43.806686 -79.194353\n",
       "1        M1C  43.784535 -79.160497\n",
       "2        M1E  43.763573 -79.188711\n",
       "3        M1G  43.770992 -79.216917\n",
       "4        M1H  43.773136 -79.239476"
      ]
     },
     "execution_count": 52,
     "metadata": {},
     "output_type": "execute_result"
    }
   ],
   "source": [
    "coordinates.rename(columns={\"Postal Code\": \"PostalCode\"}, inplace = True)\n",
    "coordinates.head()"
   ]
  },
  {
   "cell_type": "markdown",
   "metadata": {},
   "source": [
    "### For get the coordinates we need to merge two tables"
   ]
  },
  {
   "cell_type": "code",
   "execution_count": 53,
   "metadata": {},
   "outputs": [
    {
     "data": {
      "text/html": [
       "<div>\n",
       "<style scoped>\n",
       "    .dataframe tbody tr th:only-of-type {\n",
       "        vertical-align: middle;\n",
       "    }\n",
       "\n",
       "    .dataframe tbody tr th {\n",
       "        vertical-align: top;\n",
       "    }\n",
       "\n",
       "    .dataframe thead th {\n",
       "        text-align: right;\n",
       "    }\n",
       "</style>\n",
       "<table border=\"1\" class=\"dataframe\">\n",
       "  <thead>\n",
       "    <tr style=\"text-align: right;\">\n",
       "      <th></th>\n",
       "      <th>PostalCode</th>\n",
       "      <th>Borough</th>\n",
       "      <th>Neighborhood</th>\n",
       "      <th>Latitude</th>\n",
       "      <th>Longitude</th>\n",
       "    </tr>\n",
       "  </thead>\n",
       "  <tbody>\n",
       "    <tr>\n",
       "      <th>0</th>\n",
       "      <td>M1B</td>\n",
       "      <td>Scarborough</td>\n",
       "      <td>Malvern, Rouge</td>\n",
       "      <td>43.806686</td>\n",
       "      <td>-79.194353</td>\n",
       "    </tr>\n",
       "    <tr>\n",
       "      <th>1</th>\n",
       "      <td>M1C</td>\n",
       "      <td>Scarborough</td>\n",
       "      <td>Rouge Hill, Port Union, Highland Creek</td>\n",
       "      <td>43.784535</td>\n",
       "      <td>-79.160497</td>\n",
       "    </tr>\n",
       "    <tr>\n",
       "      <th>2</th>\n",
       "      <td>M1E</td>\n",
       "      <td>Scarborough</td>\n",
       "      <td>Guildwood, Morningside, West Hill</td>\n",
       "      <td>43.763573</td>\n",
       "      <td>-79.188711</td>\n",
       "    </tr>\n",
       "    <tr>\n",
       "      <th>3</th>\n",
       "      <td>M1G</td>\n",
       "      <td>Scarborough</td>\n",
       "      <td>Woburn</td>\n",
       "      <td>43.770992</td>\n",
       "      <td>-79.216917</td>\n",
       "    </tr>\n",
       "    <tr>\n",
       "      <th>4</th>\n",
       "      <td>M1H</td>\n",
       "      <td>Scarborough</td>\n",
       "      <td>Cedarbrae</td>\n",
       "      <td>43.773136</td>\n",
       "      <td>-79.239476</td>\n",
       "    </tr>\n",
       "  </tbody>\n",
       "</table>\n",
       "</div>"
      ],
      "text/plain": [
       "  PostalCode      Borough                            Neighborhood   Latitude  \\\n",
       "0        M1B  Scarborough                          Malvern, Rouge  43.806686   \n",
       "1        M1C  Scarborough  Rouge Hill, Port Union, Highland Creek  43.784535   \n",
       "2        M1E  Scarborough       Guildwood, Morningside, West Hill  43.763573   \n",
       "3        M1G  Scarborough                                  Woburn  43.770992   \n",
       "4        M1H  Scarborough                               Cedarbrae  43.773136   \n",
       "\n",
       "   Longitude  \n",
       "0 -79.194353  \n",
       "1 -79.160497  \n",
       "2 -79.188711  \n",
       "3 -79.216917  \n",
       "4 -79.239476  "
      ]
     },
     "execution_count": 53,
     "metadata": {},
     "output_type": "execute_result"
    }
   ],
   "source": [
    "toronto_df_coordinates = toronto_df_grouped.merge(coordinates, on = \"PostalCode\", how = \"left\")\n",
    "toronto_df_coordinates.head()"
   ]
  },
  {
   "cell_type": "markdown",
   "metadata": {},
   "source": [
    "### The coordinates are added as required"
   ]
  },
  {
   "cell_type": "code",
   "execution_count": 55,
   "metadata": {},
   "outputs": [
    {
     "data": {
      "text/html": [
       "<div>\n",
       "<style scoped>\n",
       "    .dataframe tbody tr th:only-of-type {\n",
       "        vertical-align: middle;\n",
       "    }\n",
       "\n",
       "    .dataframe tbody tr th {\n",
       "        vertical-align: top;\n",
       "    }\n",
       "\n",
       "    .dataframe thead th {\n",
       "        text-align: right;\n",
       "    }\n",
       "</style>\n",
       "<table border=\"1\" class=\"dataframe\">\n",
       "  <thead>\n",
       "    <tr style=\"text-align: right;\">\n",
       "      <th></th>\n",
       "      <th>PostalCode</th>\n",
       "      <th>Borough</th>\n",
       "      <th>Neighborhood</th>\n",
       "      <th>Latitude</th>\n",
       "      <th>Longitude</th>\n",
       "    </tr>\n",
       "  </thead>\n",
       "  <tbody>\n",
       "    <tr>\n",
       "      <th>0</th>\n",
       "      <td>M5G</td>\n",
       "      <td>Downtown Toronto</td>\n",
       "      <td>Central Bay Street</td>\n",
       "      <td>43.657952</td>\n",
       "      <td>-79.387383</td>\n",
       "    </tr>\n",
       "    <tr>\n",
       "      <th>1</th>\n",
       "      <td>M2H</td>\n",
       "      <td>North York</td>\n",
       "      <td>Hillcrest Village</td>\n",
       "      <td>43.803762</td>\n",
       "      <td>-79.363452</td>\n",
       "    </tr>\n",
       "    <tr>\n",
       "      <th>2</th>\n",
       "      <td>M4B</td>\n",
       "      <td>East York</td>\n",
       "      <td>Parkview Hill, Woodbine Gardens</td>\n",
       "      <td>43.706397</td>\n",
       "      <td>-79.309937</td>\n",
       "    </tr>\n",
       "    <tr>\n",
       "      <th>3</th>\n",
       "      <td>M1J</td>\n",
       "      <td>Scarborough</td>\n",
       "      <td>Scarborough Village</td>\n",
       "      <td>43.744734</td>\n",
       "      <td>-79.239476</td>\n",
       "    </tr>\n",
       "    <tr>\n",
       "      <th>4</th>\n",
       "      <td>M4G</td>\n",
       "      <td>East York</td>\n",
       "      <td>Leaside</td>\n",
       "      <td>43.709060</td>\n",
       "      <td>-79.363452</td>\n",
       "    </tr>\n",
       "    <tr>\n",
       "      <th>5</th>\n",
       "      <td>M4M</td>\n",
       "      <td>East Toronto</td>\n",
       "      <td>Studio District</td>\n",
       "      <td>43.659526</td>\n",
       "      <td>-79.340923</td>\n",
       "    </tr>\n",
       "    <tr>\n",
       "      <th>6</th>\n",
       "      <td>M1R</td>\n",
       "      <td>Scarborough</td>\n",
       "      <td>Wexford, Maryvale</td>\n",
       "      <td>43.750072</td>\n",
       "      <td>-79.295849</td>\n",
       "    </tr>\n",
       "    <tr>\n",
       "      <th>7</th>\n",
       "      <td>M9V</td>\n",
       "      <td>Etobicoke</td>\n",
       "      <td>South Steeles, Silverstone, Humbergate, Jamest...</td>\n",
       "      <td>43.739416</td>\n",
       "      <td>-79.588437</td>\n",
       "    </tr>\n",
       "    <tr>\n",
       "      <th>8</th>\n",
       "      <td>M9L</td>\n",
       "      <td>North York</td>\n",
       "      <td>Humber Summit</td>\n",
       "      <td>43.756303</td>\n",
       "      <td>-79.565963</td>\n",
       "    </tr>\n",
       "    <tr>\n",
       "      <th>9</th>\n",
       "      <td>M5V</td>\n",
       "      <td>Downtown Toronto</td>\n",
       "      <td>CN Tower, King and Spadina, Railway Lands, Har...</td>\n",
       "      <td>43.628947</td>\n",
       "      <td>-79.394420</td>\n",
       "    </tr>\n",
       "    <tr>\n",
       "      <th>10</th>\n",
       "      <td>M1B</td>\n",
       "      <td>Scarborough</td>\n",
       "      <td>Malvern, Rouge</td>\n",
       "      <td>43.806686</td>\n",
       "      <td>-79.194353</td>\n",
       "    </tr>\n",
       "    <tr>\n",
       "      <th>11</th>\n",
       "      <td>M5A</td>\n",
       "      <td>Downtown Toronto</td>\n",
       "      <td>Regent Park, Harbourfront</td>\n",
       "      <td>43.654260</td>\n",
       "      <td>-79.360636</td>\n",
       "    </tr>\n",
       "  </tbody>\n",
       "</table>\n",
       "</div>"
      ],
      "text/plain": [
       "   PostalCode           Borough  \\\n",
       "0         M5G  Downtown Toronto   \n",
       "1         M2H        North York   \n",
       "2         M4B         East York   \n",
       "3         M1J       Scarborough   \n",
       "4         M4G         East York   \n",
       "5         M4M      East Toronto   \n",
       "6         M1R       Scarborough   \n",
       "7         M9V         Etobicoke   \n",
       "8         M9L        North York   \n",
       "9         M5V  Downtown Toronto   \n",
       "10        M1B       Scarborough   \n",
       "11        M5A  Downtown Toronto   \n",
       "\n",
       "                                         Neighborhood   Latitude  Longitude  \n",
       "0                                  Central Bay Street  43.657952 -79.387383  \n",
       "1                                   Hillcrest Village  43.803762 -79.363452  \n",
       "2                     Parkview Hill, Woodbine Gardens  43.706397 -79.309937  \n",
       "3                                 Scarborough Village  43.744734 -79.239476  \n",
       "4                                             Leaside  43.709060 -79.363452  \n",
       "5                                     Studio District  43.659526 -79.340923  \n",
       "6                                   Wexford, Maryvale  43.750072 -79.295849  \n",
       "7   South Steeles, Silverstone, Humbergate, Jamest...  43.739416 -79.588437  \n",
       "8                                       Humber Summit  43.756303 -79.565963  \n",
       "9   CN Tower, King and Spadina, Railway Lands, Har...  43.628947 -79.394420  \n",
       "10                                     Malvern, Rouge  43.806686 -79.194353  \n",
       "11                          Regent Park, Harbourfront  43.654260 -79.360636  "
      ]
     },
     "execution_count": 55,
     "metadata": {},
     "output_type": "execute_result"
    }
   ],
   "source": [
    "column_names = [\"PostalCode\", \"Borough\", \"Neighborhood\", \"Latitude\", \"Longitude\"]\n",
    "test_df = pd.DataFrame(columns=column_names)\n",
    "\n",
    "test_list = [\"M5G\", \"M2H\", \"M4B\", \"M1J\", \"M4G\", \"M4M\", \"M1R\", \"M9V\", \"M9L\", \"M5V\", \"M1B\", \"M5A\"]\n",
    "\n",
    "for postcode in test_list:\n",
    "    test_df = test_df.append(toronto_df_coordinates[toronto_df_coordinates[\"PostalCode\"]==postcode], ignore_index=True)\n",
    "    \n",
    "test_df"
   ]
  },
  {
   "cell_type": "markdown",
   "metadata": {},
   "source": [
    "### Geopy library to get the latitude and longtitude values of Toronto"
   ]
  },
  {
   "cell_type": "code",
   "execution_count": 57,
   "metadata": {},
   "outputs": [
    {
     "name": "stdout",
     "output_type": "stream",
     "text": [
      "The geograpical coordinate of Toronto are 43.6534817, -79.3839347.\n"
     ]
    }
   ],
   "source": [
    "address = 'Toronto'\n",
    "\n",
    "geolocator = Nominatim(user_agent=\"http://geoawesomeness.com/developers-up-in-arms-over-google-maps-api-insane-price-hike/,\")\n",
    "location = geolocator.geocode(address)\n",
    "latitude = location.latitude\n",
    "longitude = location.longitude\n",
    "print('The geograpical coordinate of Toronto are {}, {}.'.format(latitude, longitude))"
   ]
  },
  {
   "cell_type": "markdown",
   "metadata": {},
   "source": [
    "### Create a map of Toronto with neighborhoods superimposed on top"
   ]
  },
  {
   "cell_type": "code",
   "execution_count": 59,
   "metadata": {},
   "outputs": [
    {
     "data": {
      "text/html": [
       "<div style=\"width:100%;\"><div style=\"position:relative;width:100%;height:0;padding-bottom:60%;\"><span style=\"color:#565656\">Make this Notebook Trusted to load map: File -> Trust Notebook</span><iframe src=\"about:blank\" style=\"position:absolute;width:100%;height:100%;left:0;top:0;border:none !important;\" data-html=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 onload=\"this.contentDocument.open();this.contentDocument.write(atob(this.getAttribute('data-html')));this.contentDocument.close();\" allowfullscreen webkitallowfullscreen mozallowfullscreen></iframe></div></div>"
      ],
      "text/plain": [
       "<folium.folium.Map at 0x7f220893eeb0>"
      ]
     },
     "execution_count": 59,
     "metadata": {},
     "output_type": "execute_result"
    }
   ],
   "source": [
    "map_toronto = folium.Map(location=[latitude, longitude], zoom_start=10)\n",
    "\n",
    "# for add markers to map\n",
    "for lat, lng, borough, neighborhood in zip(toronto_df_coordinates['Latitude'], toronto_df_coordinates['Longitude'], toronto_df_coordinates['Borough'], toronto_df_coordinates['Neighborhood']):\n",
    "    label = '{}, {}'.format(neighborhood, borough)\n",
    "    label = folium.Popup(label, parse_html=True)\n",
    "    folium.CircleMarker(\n",
    "        [lat, lng],\n",
    "        radius=5,\n",
    "        popup=label,\n",
    "        color='blue',\n",
    "        fill=True,\n",
    "        fill_color='#3186cc',\n",
    "        fill_opacity=0.7).add_to(map_toronto)  \n",
    "    \n",
    "map_toronto"
   ]
  },
  {
   "cell_type": "markdown",
   "metadata": {},
   "source": [
    "### Filter only boroughs that contain the word Toronto"
   ]
  },
  {
   "cell_type": "code",
   "execution_count": 61,
   "metadata": {},
   "outputs": [
    {
     "data": {
      "text/plain": [
       "['East Toronto', 'Central Toronto', 'Downtown Toronto', 'West Toronto']"
      ]
     },
     "execution_count": 61,
     "metadata": {},
     "output_type": "execute_result"
    }
   ],
   "source": [
    "borough_names = list(toronto_df_coordinates.Borough.unique())\n",
    "\n",
    "borough_with_toronto = []\n",
    "\n",
    "for x in borough_names:\n",
    "    if \"toronto\" in x.lower():\n",
    "        borough_with_toronto.append(x)\n",
    "        \n",
    "borough_with_toronto"
   ]
  },
  {
   "cell_type": "code",
   "execution_count": 64,
   "metadata": {},
   "outputs": [
    {
     "name": "stdout",
     "output_type": "stream",
     "text": [
      "(39, 5)\n"
     ]
    },
    {
     "data": {
      "text/html": [
       "<div>\n",
       "<style scoped>\n",
       "    .dataframe tbody tr th:only-of-type {\n",
       "        vertical-align: middle;\n",
       "    }\n",
       "\n",
       "    .dataframe tbody tr th {\n",
       "        vertical-align: top;\n",
       "    }\n",
       "\n",
       "    .dataframe thead th {\n",
       "        text-align: right;\n",
       "    }\n",
       "</style>\n",
       "<table border=\"1\" class=\"dataframe\">\n",
       "  <thead>\n",
       "    <tr style=\"text-align: right;\">\n",
       "      <th></th>\n",
       "      <th>PostalCode</th>\n",
       "      <th>Borough</th>\n",
       "      <th>Neighborhood</th>\n",
       "      <th>Latitude</th>\n",
       "      <th>Longitude</th>\n",
       "    </tr>\n",
       "  </thead>\n",
       "  <tbody>\n",
       "    <tr>\n",
       "      <th>0</th>\n",
       "      <td>M4E</td>\n",
       "      <td>East Toronto</td>\n",
       "      <td>The Beaches</td>\n",
       "      <td>43.676357</td>\n",
       "      <td>-79.293031</td>\n",
       "    </tr>\n",
       "    <tr>\n",
       "      <th>1</th>\n",
       "      <td>M4K</td>\n",
       "      <td>East Toronto</td>\n",
       "      <td>The Danforth West, Riverdale</td>\n",
       "      <td>43.679557</td>\n",
       "      <td>-79.352188</td>\n",
       "    </tr>\n",
       "    <tr>\n",
       "      <th>2</th>\n",
       "      <td>M4L</td>\n",
       "      <td>East Toronto</td>\n",
       "      <td>India Bazaar, The Beaches West</td>\n",
       "      <td>43.668999</td>\n",
       "      <td>-79.315572</td>\n",
       "    </tr>\n",
       "    <tr>\n",
       "      <th>3</th>\n",
       "      <td>M4M</td>\n",
       "      <td>East Toronto</td>\n",
       "      <td>Studio District</td>\n",
       "      <td>43.659526</td>\n",
       "      <td>-79.340923</td>\n",
       "    </tr>\n",
       "    <tr>\n",
       "      <th>4</th>\n",
       "      <td>M4N</td>\n",
       "      <td>Central Toronto</td>\n",
       "      <td>Lawrence Park</td>\n",
       "      <td>43.728020</td>\n",
       "      <td>-79.388790</td>\n",
       "    </tr>\n",
       "  </tbody>\n",
       "</table>\n",
       "</div>"
      ],
      "text/plain": [
       "  PostalCode          Borough                    Neighborhood   Latitude  \\\n",
       "0        M4E     East Toronto                     The Beaches  43.676357   \n",
       "1        M4K     East Toronto    The Danforth West, Riverdale  43.679557   \n",
       "2        M4L     East Toronto  India Bazaar, The Beaches West  43.668999   \n",
       "3        M4M     East Toronto                 Studio District  43.659526   \n",
       "4        M4N  Central Toronto                   Lawrence Park  43.728020   \n",
       "\n",
       "   Longitude  \n",
       "0 -79.293031  \n",
       "1 -79.352188  \n",
       "2 -79.315572  \n",
       "3 -79.340923  \n",
       "4 -79.388790  "
      ]
     },
     "execution_count": 64,
     "metadata": {},
     "output_type": "execute_result"
    }
   ],
   "source": [
    "# create a new DataFrame with only boroughs that contain the word Toronto\n",
    "toronto_df_new = toronto_df_coordinates[toronto_df_coordinates['Borough'].isin(borough_with_toronto)].reset_index(drop=True)\n",
    "print(toronto_df_new.shape)\n",
    "toronto_df_new.head()"
   ]
  },
  {
   "cell_type": "markdown",
   "metadata": {},
   "source": [
    "### For creating a map of Toronto with using latitude and longtitude values"
   ]
  },
  {
   "cell_type": "code",
   "execution_count": 65,
   "metadata": {},
   "outputs": [
    {
     "data": {
      "text/html": [
       "<div style=\"width:100%;\"><div style=\"position:relative;width:100%;height:0;padding-bottom:60%;\"><span style=\"color:#565656\">Make this Notebook Trusted to load map: File -> Trust Notebook</span><iframe src=\"about:blank\" style=\"position:absolute;width:100%;height:100%;left:0;top:0;border:none !important;\" data-html=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 onload=\"this.contentDocument.open();this.contentDocument.write(atob(this.getAttribute('data-html')));this.contentDocument.close();\" allowfullscreen webkitallowfullscreen mozallowfullscreen></iframe></div></div>"
      ],
      "text/plain": [
       "<folium.folium.Map at 0x7f2207f23be0>"
      ]
     },
     "execution_count": 65,
     "metadata": {},
     "output_type": "execute_result"
    }
   ],
   "source": [
    "map_toronto = folium.Map(location=[latitude, longitude], zoom_start=10)\n",
    "\n",
    "# add markers to map\n",
    "for lat, lng, borough, neighborhood in zip(toronto_df_new['Latitude'], toronto_df_new['Longitude'], toronto_df_new['Borough'], toronto_df_new['Neighborhood']):\n",
    "    label = '{}, {}'.format(neighborhood, borough)\n",
    "    label = folium.Popup(label, parse_html=True)\n",
    "    folium.CircleMarker(\n",
    "        [lat, lng],\n",
    "        radius=5,\n",
    "        popup=label,\n",
    "        color='blue',\n",
    "        fill=True,\n",
    "        fill_color='#3186cc',\n",
    "        fill_opacity=0.7).add_to(map_toronto)  \n",
    "    \n",
    "map_toronto"
   ]
  },
  {
   "cell_type": "code",
   "execution_count": null,
   "metadata": {},
   "outputs": [],
   "source": []
  }
 ],
 "metadata": {
  "kernelspec": {
   "display_name": "Python 3",
   "language": "python",
   "name": "python3"
  },
  "language_info": {
   "codemirror_mode": {
    "name": "ipython",
    "version": 3
   },
   "file_extension": ".py",
   "mimetype": "text/x-python",
   "name": "python",
   "nbconvert_exporter": "python",
   "pygments_lexer": "ipython3",
   "version": "3.8.5"
  }
 },
 "nbformat": 4,
 "nbformat_minor": 4
}
